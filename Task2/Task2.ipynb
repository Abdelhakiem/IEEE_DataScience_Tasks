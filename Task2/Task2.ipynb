{
 "cells": [
  {
   "cell_type": "markdown",
   "source": [
    "## Environment Setup:\n",
    "Importing necessary packages:"
   ],
   "metadata": {
    "collapsed": false
   }
  },
  {
   "cell_type": "code",
   "execution_count": 1,
   "outputs": [],
   "source": [
    "import pandas as pd\n",
    "import numpy as np\n",
    "import matplotlib.pyplot as plt\n",
    "import seaborn as sns"
   ],
   "metadata": {
    "collapsed": false,
    "ExecuteTime": {
     "start_time": "2023-07-16T19:54:27.429558Z",
     "end_time": "2023-07-16T19:54:27.502223Z"
    }
   }
  },
  {
   "cell_type": "markdown",
   "source": [
    "## Initial Data Exploration.\n",
    "Reading Movies dataset."
   ],
   "metadata": {
    "collapsed": false
   }
  },
  {
   "cell_type": "code",
   "execution_count": 2,
   "outputs": [],
   "source": [
    "movies=pd.read_csv('mymoviedb.csv',lineterminator='\\n')"
   ],
   "metadata": {
    "collapsed": false,
    "ExecuteTime": {
     "start_time": "2023-07-16T19:54:33.597958Z",
     "end_time": "2023-07-16T19:54:33.818519Z"
    }
   }
  },
  {
   "cell_type": "markdown",
   "source": [
    "First look at movies data frame. As seen from next code cell, movies data frame contains 9 columns.\n",
    "The description of each columns is as follows:\n",
    " - Release_Date: Date when the movie was released.\n",
    " - Title: Name of the movie.\n",
    " - Overview: Brief summary of the movie.\n",
    " - Popularity: based on the number of views per day.\n",
    " - Vote_Count: Total votes received from the viewers.\n",
    " - Vote_Average: Average rating based on vote count and the number of viewers out of 10.\n",
    " - Original_Language: Original language of the movies.\n",
    " - Genre: Categories the movie it can be classified as.\n",
    " - Poster_Url: Url of the movie poster."
   ],
   "metadata": {
    "collapsed": false
   }
  },
  {
   "cell_type": "code",
   "execution_count": 3,
   "outputs": [
    {
     "data": {
      "text/plain": "  Release_Date                    Title  \\\n0   2021-12-15  Spider-Man: No Way Home   \n1   2022-03-01               The Batman   \n2   2022-02-25                  No Exit   \n3   2021-11-24                  Encanto   \n4   2021-12-22           The King's Man   \n\n                                            Overview  Popularity  Vote_Count  \\\n0  Peter Parker is unmasked and no longer able to...    5083.954        8940   \n1  In his second year of fighting crime, Batman u...    3827.658        1151   \n2  Stranded at a rest stop in the mountains durin...    2618.087         122   \n3  The tale of an extraordinary family, the Madri...    2402.201        5076   \n4  As a collection of history's worst tyrants and...    1895.511        1793   \n\n   Vote_Average Original_Language                               Genre  \\\n0           8.3                en  Action, Adventure, Science Fiction   \n1           8.1                en            Crime, Mystery, Thriller   \n2           6.3                en                            Thriller   \n3           7.7                en  Animation, Comedy, Family, Fantasy   \n4           7.0                en    Action, Adventure, Thriller, War   \n\n                                          Poster_Url  \n0  https://image.tmdb.org/t/p/original/1g0dhYtq4i...  \n1  https://image.tmdb.org/t/p/original/74xTEgt7R3...  \n2  https://image.tmdb.org/t/p/original/vDHsLnOWKl...  \n3  https://image.tmdb.org/t/p/original/4j0PNHkMr5...  \n4  https://image.tmdb.org/t/p/original/aq4Pwv5Xeu...  ",
      "text/html": "<div>\n<style scoped>\n    .dataframe tbody tr th:only-of-type {\n        vertical-align: middle;\n    }\n\n    .dataframe tbody tr th {\n        vertical-align: top;\n    }\n\n    .dataframe thead th {\n        text-align: right;\n    }\n</style>\n<table border=\"1\" class=\"dataframe\">\n  <thead>\n    <tr style=\"text-align: right;\">\n      <th></th>\n      <th>Release_Date</th>\n      <th>Title</th>\n      <th>Overview</th>\n      <th>Popularity</th>\n      <th>Vote_Count</th>\n      <th>Vote_Average</th>\n      <th>Original_Language</th>\n      <th>Genre</th>\n      <th>Poster_Url</th>\n    </tr>\n  </thead>\n  <tbody>\n    <tr>\n      <th>0</th>\n      <td>2021-12-15</td>\n      <td>Spider-Man: No Way Home</td>\n      <td>Peter Parker is unmasked and no longer able to...</td>\n      <td>5083.954</td>\n      <td>8940</td>\n      <td>8.3</td>\n      <td>en</td>\n      <td>Action, Adventure, Science Fiction</td>\n      <td>https://image.tmdb.org/t/p/original/1g0dhYtq4i...</td>\n    </tr>\n    <tr>\n      <th>1</th>\n      <td>2022-03-01</td>\n      <td>The Batman</td>\n      <td>In his second year of fighting crime, Batman u...</td>\n      <td>3827.658</td>\n      <td>1151</td>\n      <td>8.1</td>\n      <td>en</td>\n      <td>Crime, Mystery, Thriller</td>\n      <td>https://image.tmdb.org/t/p/original/74xTEgt7R3...</td>\n    </tr>\n    <tr>\n      <th>2</th>\n      <td>2022-02-25</td>\n      <td>No Exit</td>\n      <td>Stranded at a rest stop in the mountains durin...</td>\n      <td>2618.087</td>\n      <td>122</td>\n      <td>6.3</td>\n      <td>en</td>\n      <td>Thriller</td>\n      <td>https://image.tmdb.org/t/p/original/vDHsLnOWKl...</td>\n    </tr>\n    <tr>\n      <th>3</th>\n      <td>2021-11-24</td>\n      <td>Encanto</td>\n      <td>The tale of an extraordinary family, the Madri...</td>\n      <td>2402.201</td>\n      <td>5076</td>\n      <td>7.7</td>\n      <td>en</td>\n      <td>Animation, Comedy, Family, Fantasy</td>\n      <td>https://image.tmdb.org/t/p/original/4j0PNHkMr5...</td>\n    </tr>\n    <tr>\n      <th>4</th>\n      <td>2021-12-22</td>\n      <td>The King's Man</td>\n      <td>As a collection of history's worst tyrants and...</td>\n      <td>1895.511</td>\n      <td>1793</td>\n      <td>7.0</td>\n      <td>en</td>\n      <td>Action, Adventure, Thriller, War</td>\n      <td>https://image.tmdb.org/t/p/original/aq4Pwv5Xeu...</td>\n    </tr>\n  </tbody>\n</table>\n</div>"
     },
     "execution_count": 3,
     "metadata": {},
     "output_type": "execute_result"
    }
   ],
   "source": [
    "movies.head()"
   ],
   "metadata": {
    "collapsed": false,
    "ExecuteTime": {
     "start_time": "2023-07-16T19:54:35.978621Z",
     "end_time": "2023-07-16T19:54:36.082970Z"
    }
   }
  },
  {
   "cell_type": "markdown",
   "source": [
    "### Dropping Unneeded Columns:\n",
    "Overview and Poster_Url columns are out of the scope of our analysis."
   ],
   "metadata": {
    "collapsed": false
   }
  },
  {
   "cell_type": "code",
   "execution_count": 4,
   "outputs": [
    {
     "data": {
      "text/plain": "['Release_Date',\n 'Title',\n 'Popularity',\n 'Vote_Count',\n 'Vote_Average',\n 'Original_Language',\n 'Genre']"
     },
     "execution_count": 4,
     "metadata": {},
     "output_type": "execute_result"
    }
   ],
   "source": [
    "movies.drop(['Overview','Poster_Url'],inplace=True, axis=1)\n",
    "movies.columns.tolist()"
   ],
   "metadata": {
    "collapsed": false,
    "ExecuteTime": {
     "start_time": "2023-07-16T19:54:39.829843Z",
     "end_time": "2023-07-16T19:54:40.007643Z"
    }
   }
  },
  {
   "cell_type": "markdown",
   "source": [
    "**Check for duplicated movies.**"
   ],
   "metadata": {
    "collapsed": false
   }
  },
  {
   "cell_type": "code",
   "execution_count": 5,
   "outputs": [
    {
     "data": {
      "text/plain": "314"
     },
     "metadata": {},
     "output_type": "display_data"
    }
   ],
   "source": [
    "display(movies.duplicated('Title').sum())\n",
    "movies.drop_duplicates('Title',inplace=True)"
   ],
   "metadata": {
    "collapsed": false,
    "ExecuteTime": {
     "start_time": "2023-07-16T19:54:42.321673Z",
     "end_time": "2023-07-16T19:54:42.413658Z"
    }
   }
  },
  {
   "cell_type": "markdown",
   "source": [],
   "metadata": {
    "collapsed": false
   }
  },
  {
   "cell_type": "markdown",
   "source": [
    "## Validating Movies Data.\n",
    "#### 1- Validating Columns Data Types and check for null:\n",
    " It's clear that there is no missing values, and three numerical columns which are: *Popularity*, *Vote_Count* , *Vote_Average*."
   ],
   "metadata": {
    "collapsed": false
   }
  },
  {
   "cell_type": "code",
   "execution_count": 6,
   "outputs": [
    {
     "name": "stdout",
     "output_type": "stream",
     "text": [
      "<class 'pandas.core.frame.DataFrame'>\n",
      "Index: 9513 entries, 0 to 9826\n",
      "Data columns (total 7 columns):\n",
      " #   Column             Non-Null Count  Dtype  \n",
      "---  ------             --------------  -----  \n",
      " 0   Release_Date       9513 non-null   object \n",
      " 1   Title              9513 non-null   object \n",
      " 2   Popularity         9513 non-null   float64\n",
      " 3   Vote_Count         9513 non-null   int64  \n",
      " 4   Vote_Average       9513 non-null   float64\n",
      " 5   Original_Language  9513 non-null   object \n",
      " 6   Genre              9513 non-null   object \n",
      "dtypes: float64(2), int64(1), object(4)\n",
      "memory usage: 594.6+ KB\n"
     ]
    }
   ],
   "source": [
    "movies.info()"
   ],
   "metadata": {
    "collapsed": false,
    "ExecuteTime": {
     "start_time": "2023-07-16T19:54:44.879899Z",
     "end_time": "2023-07-16T19:54:45.056331Z"
    }
   }
  },
  {
   "cell_type": "markdown",
   "source": [
    "From our understanding of each column purpose there is no column datatype conversion needed except for **Release_Date** column."
   ],
   "metadata": {
    "collapsed": false
   }
  },
  {
   "cell_type": "code",
   "execution_count": 7,
   "outputs": [
    {
     "data": {
      "text/plain": "Release_Date         datetime64[ns]\nTitle                        object\nPopularity                  float64\nVote_Count                    int64\nVote_Average                float64\nOriginal_Language            object\nGenre                        object\ndtype: object"
     },
     "execution_count": 7,
     "metadata": {},
     "output_type": "execute_result"
    }
   ],
   "source": [
    "movies['Release_Date']=pd.to_datetime(movies['Release_Date'])\n",
    "movies.dtypes"
   ],
   "metadata": {
    "collapsed": false,
    "ExecuteTime": {
     "start_time": "2023-07-16T19:54:47.865684Z",
     "end_time": "2023-07-16T19:54:47.996026Z"
    }
   }
  },
  {
   "cell_type": "markdown",
   "source": [
    "### Validating categorical data:\n",
    "- The only categorical column that it's possible to validate its values is Original_Language."
   ],
   "metadata": {
    "collapsed": false
   }
  },
  {
   "cell_type": "code",
   "execution_count": 8,
   "outputs": [
    {
     "data": {
      "text/plain": "'number of Languages of movies = 43'"
     },
     "metadata": {},
     "output_type": "display_data"
    },
    {
     "data": {
      "text/plain": "['en',\n 'ja',\n 'fr',\n 'hi',\n 'es',\n 'ru',\n 'de',\n 'th',\n 'ko',\n 'tr',\n 'cn',\n 'zh',\n 'it',\n 'pt',\n 'ml',\n 'pl',\n 'fi',\n 'no',\n 'da',\n 'id',\n 'sv',\n 'nl',\n 'te',\n 'sr',\n 'is',\n 'ro',\n 'tl',\n 'fa',\n 'uk',\n 'nb',\n 'eu',\n 'lv',\n 'ar',\n 'el',\n 'cs',\n 'ms',\n 'bn',\n 'ca',\n 'la',\n 'ta',\n 'hu',\n 'he',\n 'et']"
     },
     "metadata": {},
     "output_type": "display_data"
    }
   ],
   "source": [
    "display(\n",
    "    # Investigating number of Languages of movies:\n",
    "    'number of Languages of movies = '+str(movies['Original_Language'].nunique()),\n",
    "    # Investigating Languages of movies:\n",
    "    movies['Original_Language'].unique().tolist(),\n",
    ")"
   ],
   "metadata": {
    "collapsed": false,
    "ExecuteTime": {
     "start_time": "2023-07-16T19:54:51.306175Z",
     "end_time": "2023-07-16T19:54:51.450738Z"
    }
   }
  },
  {
   "cell_type": "markdown",
   "source": [
    "Validating Numerical Columns:\n"
   ],
   "metadata": {
    "collapsed": false
   }
  },
  {
   "cell_type": "markdown",
   "source": [
    "**Vote_Average** column has a valid rang(0-10) with mean vote=6.5"
   ],
   "metadata": {
    "collapsed": false
   }
  },
  {
   "cell_type": "code",
   "execution_count": 9,
   "outputs": [
    {
     "data": {
      "text/plain": "<Figure size 640x480 with 1 Axes>",
      "image/png": "[encoded data removed]"
     },
     "metadata": {},
     "output_type": "display_data"
    }
   ],
   "source": [
    "sns.boxplot(data=movies,x='Vote_Average')\n",
    "plt.show()"
   ],
   "metadata": {
    "collapsed": false,
    "ExecuteTime": {
     "start_time": "2023-07-16T19:54:53.847237Z",
     "end_time": "2023-07-16T19:54:54.817884Z"
    }
   }
  },
  {
   "cell_type": "markdown",
   "source": [
    "The other numerical columns we have are Vote_Count,Popularity. Both have valid range."
   ],
   "metadata": {
    "collapsed": false
   }
  },
  {
   "cell_type": "code",
   "execution_count": 10,
   "outputs": [
    {
     "data": {
      "text/plain": "     Vote_Count  Popularity\nmax       31077    5083.954\nmin           0      13.354",
      "text/html": "<div>\n<style scoped>\n    .dataframe tbody tr th:only-of-type {\n        vertical-align: middle;\n    }\n\n    .dataframe tbody tr th {\n        vertical-align: top;\n    }\n\n    .dataframe thead th {\n        text-align: right;\n    }\n</style>\n<table border=\"1\" class=\"dataframe\">\n  <thead>\n    <tr style=\"text-align: right;\">\n      <th></th>\n      <th>Vote_Count</th>\n      <th>Popularity</th>\n    </tr>\n  </thead>\n  <tbody>\n    <tr>\n      <th>max</th>\n      <td>31077</td>\n      <td>5083.954</td>\n    </tr>\n    <tr>\n      <th>min</th>\n      <td>0</td>\n      <td>13.354</td>\n    </tr>\n  </tbody>\n</table>\n</div>"
     },
     "execution_count": 10,
     "metadata": {},
     "output_type": "execute_result"
    }
   ],
   "source": [
    "movies[['Vote_Count','Popularity']].agg({'min','max'})"
   ],
   "metadata": {
    "collapsed": false,
    "ExecuteTime": {
     "start_time": "2023-07-16T19:54:58.432663Z",
     "end_time": "2023-07-16T19:54:58.513726Z"
    }
   }
  },
  {
   "cell_type": "markdown",
   "source": [
    "## Data Cleaning.\n",
    "- Neither Null values exist in our dataset.\n",
    "- Recall that we need to encode **Genre**  to column for each movie genre.\n"
   ],
   "metadata": {
    "collapsed": false
   }
  },
  {
   "cell_type": "code",
   "execution_count": 11,
   "outputs": [
    {
     "data": {
      "text/plain": "  Release_Date                    Title  Popularity  Vote_Count  Vote_Average  \\\n0   2021-12-15  Spider-Man: No Way Home    5083.954        8940           8.3   \n1   2022-03-01               The Batman    3827.658        1151           8.1   \n2   2022-02-25                  No Exit    2618.087         122           6.3   \n3   2021-11-24                  Encanto    2402.201        5076           7.7   \n4   2021-12-22           The King's Man    1895.511        1793           7.0   \n\n  Original_Language   Action   Adventure   Animation   Comedy  ...  History  \\\n0                en        0           1           0        0  ...        0   \n1                en        0           0           0        0  ...        0   \n2                en        0           0           0        0  ...        0   \n3                en        0           0           0        1  ...        0   \n4                en        0           1           0        0  ...        0   \n\n   Horror  Music  Mystery  Romance  Science Fiction  TV Movie  Thriller  War  \\\n0       0      0        0        0                0         0         0    0   \n1       0      0        0        0                0         0         0    0   \n2       0      0        0        0                0         0         1    0   \n3       0      0        0        0                0         0         0    0   \n4       0      0        0        0                0         0         0    0   \n\n   Western  \n0        0  \n1        0  \n2        0  \n3        0  \n4        0  \n\n[5 rows x 44 columns]",
      "text/html": "<div>\n<style scoped>\n    .dataframe tbody tr th:only-of-type {\n        vertical-align: middle;\n    }\n\n    .dataframe tbody tr th {\n        vertical-align: top;\n    }\n\n    .dataframe thead th {\n        text-align: right;\n    }\n</style>\n<table border=\"1\" class=\"dataframe\">\n  <thead>\n    <tr style=\"text-align: right;\">\n      <th></th>\n      <th>Release_Date</th>\n      <th>Title</th>\n      <th>Popularity</th>\n      <th>Vote_Count</th>\n      <th>Vote_Average</th>\n      <th>Original_Language</th>\n      <th>Action</th>\n      <th>Adventure</th>\n      <th>Animation</th>\n      <th>Comedy</th>\n      <th>...</th>\n      <th>History</th>\n      <th>Horror</th>\n      <th>Music</th>\n      <th>Mystery</th>\n      <th>Romance</th>\n      <th>Science Fiction</th>\n      <th>TV Movie</th>\n      <th>Thriller</th>\n      <th>War</th>\n      <th>Western</th>\n    </tr>\n  </thead>\n  <tbody>\n    <tr>\n      <th>0</th>\n      <td>2021-12-15</td>\n      <td>Spider-Man: No Way Home</td>\n      <td>5083.954</td>\n      <td>8940</td>\n      <td>8.3</td>\n      <td>en</td>\n      <td>0</td>\n      <td>1</td>\n      <td>0</td>\n      <td>0</td>\n      <td>...</td>\n      <td>0</td>\n      <td>0</td>\n      <td>0</td>\n      <td>0</td>\n      <td>0</td>\n      <td>0</td>\n      <td>0</td>\n      <td>0</td>\n      <td>0</td>\n      <td>0</td>\n    </tr>\n    <tr>\n      <th>1</th>\n      <td>2022-03-01</td>\n      <td>The Batman</td>\n      <td>3827.658</td>\n      <td>1151</td>\n      <td>8.1</td>\n      <td>en</td>\n      <td>0</td>\n      <td>0</td>\n      <td>0</td>\n      <td>0</td>\n      <td>...</td>\n      <td>0</td>\n      <td>0</td>\n      <td>0</td>\n      <td>0</td>\n      <td>0</td>\n      <td>0</td>\n      <td>0</td>\n      <td>0</td>\n      <td>0</td>\n      <td>0</td>\n    </tr>\n    <tr>\n      <th>2</th>\n      <td>2022-02-25</td>\n      <td>No Exit</td>\n      <td>2618.087</td>\n      <td>122</td>\n      <td>6.3</td>\n      <td>en</td>\n      <td>0</td>\n      <td>0</td>\n      <td>0</td>\n      <td>0</td>\n      <td>...</td>\n      <td>0</td>\n      <td>0</td>\n      <td>0</td>\n      <td>0</td>\n      <td>0</td>\n      <td>0</td>\n      <td>0</td>\n      <td>1</td>\n      <td>0</td>\n      <td>0</td>\n    </tr>\n    <tr>\n      <th>3</th>\n      <td>2021-11-24</td>\n      <td>Encanto</td>\n      <td>2402.201</td>\n      <td>5076</td>\n      <td>7.7</td>\n      <td>en</td>\n      <td>0</td>\n      <td>0</td>\n      <td>0</td>\n      <td>1</td>\n      <td>...</td>\n      <td>0</td>\n      <td>0</td>\n      <td>0</td>\n      <td>0</td>\n      <td>0</td>\n      <td>0</td>\n      <td>0</td>\n      <td>0</td>\n      <td>0</td>\n      <td>0</td>\n    </tr>\n    <tr>\n      <th>4</th>\n      <td>2021-12-22</td>\n      <td>The King's Man</td>\n      <td>1895.511</td>\n      <td>1793</td>\n      <td>7.0</td>\n      <td>en</td>\n      <td>0</td>\n      <td>1</td>\n      <td>0</td>\n      <td>0</td>\n      <td>...</td>\n      <td>0</td>\n      <td>0</td>\n      <td>0</td>\n      <td>0</td>\n      <td>0</td>\n      <td>0</td>\n      <td>0</td>\n      <td>0</td>\n      <td>0</td>\n      <td>0</td>\n    </tr>\n  </tbody>\n</table>\n<p>5 rows × 44 columns</p>\n</div>"
     },
     "execution_count": 11,
     "metadata": {},
     "output_type": "execute_result"
    }
   ],
   "source": [
    "genres_df = movies['Genre'].str.get_dummies(sep=',')\n",
    "movies = pd.concat([movies, genres_df], axis=1)\n",
    "movies.drop('Genre', axis=1,inplace=True)\n",
    "movies.head()"
   ],
   "metadata": {
    "collapsed": false,
    "ExecuteTime": {
     "start_time": "2023-07-16T19:55:04.537766Z",
     "end_time": "2023-07-16T19:55:05.116251Z"
    }
   }
  },
  {
   "cell_type": "code",
   "execution_count": 26,
   "outputs": [],
   "source": [
    "genres_movies=movies.iloc[:,6:].copy()"
   ],
   "metadata": {
    "collapsed": false,
    "ExecuteTime": {
     "start_time": "2023-07-16T20:03:05.823796Z",
     "end_time": "2023-07-16T20:03:05.991774Z"
    }
   }
  },
  {
   "cell_type": "markdown",
   "source": [
    "## After Cleaning movies dataset we are ready to answer the question.\n",
    "What is the movie with the highest Popularity rate? And what kind is it?\n",
    "- Spiderman no way home is the most popular movie.\n",
    "- genres= [' Adventure', ' Science Fiction', 'Action']"
   ],
   "metadata": {
    "collapsed": false
   }
  },
  {
   "cell_type": "markdown",
   "source": [
    "sns.barplot(data=movies.sort_values('Popularity', ascending=False).iloc[:10,:],x='Title',y='Popularity',color='b')\n",
    "# Rotate the x-axis label title by 90 degrees\n",
    "plt.xticks(rotation=90)\n",
    "# Show the plot\n",
    "plt.show()\n",
    "display(genres_movies.columns[movies.sort_values('Popularity', ascending=False).iloc[0,6:].astype('bool')])"
   ],
   "metadata": {
    "collapsed": false
   }
  },
  {
   "cell_type": "markdown",
   "source": [
    "What year was the largest number of films produced?\n",
    "Answer: 2021"
   ],
   "metadata": {
    "collapsed": false
   }
  },
  {
   "cell_type": "code",
   "execution_count": 46,
   "outputs": [
    {
     "data": {
      "text/plain": "<Figure size 640x480 with 1 Axes>",
      "image/png": "[encoded data removed]"
     },
     "metadata": {},
     "output_type": "display_data"
    }
   ],
   "source": [
    "movies_copy=movies.copy()\n",
    "movies_copy['Release_Year']=movies_copy['Release_Date'].dt.year\n",
    "movies_copy=movies_copy[movies_copy['Release_Year']>=2000]\n",
    "sns.countplot(data=movies_copy,x='Release_Year')\n",
    "plt.xticks(rotation=90)\n",
    "# Show the plot\n",
    "plt.show()\n"
   ],
   "metadata": {
    "collapsed": false,
    "ExecuteTime": {
     "start_time": "2023-07-16T20:20:51.653776Z",
     "end_time": "2023-07-16T20:20:52.382914Z"
    }
   }
  },
  {
   "cell_type": "markdown",
   "source": [
    "What is most of the film genre?\n",
    "Answer: Drama.\n"
   ],
   "metadata": {
    "collapsed": false
   }
  },
  {
   "cell_type": "code",
   "execution_count": 71,
   "outputs": [
    {
     "data": {
      "text/plain": "<Figure size 640x480 with 1 Axes>",
      "image/png": "[encoded data removed]"
     },
     "metadata": {},
     "output_type": "display_data"
    }
   ],
   "source": [
    "genres_movies=movies.iloc[:,6:].copy()\n",
    "genres_movies_cpy=pd.DataFrame(genres_movies.sum())\n",
    "genres_movies_cpy=genres_movies_cpy.reset_index()\n",
    "genres_movies_cpy.columns=['Genre','Count']\n",
    "genres_movies_cpy=genres_movies_cpy.sort_values('Count')\n",
    "plt.bar(genres_movies_cpy['Genre'],genres_movies_cpy['Count'])\n",
    "plt.xticks(rotation=90)\n",
    "plt.show()"
   ],
   "metadata": {
    "collapsed": false,
    "ExecuteTime": {
     "start_time": "2023-07-16T21:19:13.379300Z",
     "end_time": "2023-07-16T21:19:14.414355Z"
    }
   }
  },
  {
   "cell_type": "markdown",
   "source": [
    "Which movie is the most popular and which is the less popular?"
   ],
   "metadata": {
    "collapsed": false
   }
  },
  {
   "cell_type": "code",
   "execution_count": 74,
   "outputs": [
    {
     "data": {
      "text/plain": "'The most popular movie is Spider-Man: No Way Home'"
     },
     "metadata": {},
     "output_type": "display_data"
    },
    {
     "data": {
      "text/plain": "'The least popular movie is The most popular movie is Threads'"
     },
     "metadata": {},
     "output_type": "display_data"
    }
   ],
   "source": [
    "display(\n",
    "    'The most popular movie is '+movies.sort_values('Popularity',ascending=False).iloc[0,1] ,\n",
    "    'The least popular movie is ' + 'The most popular movie is '+movies.sort_values('Popularity',ascending=True).iloc[0,1]\n",
    "\n",
    ")"
   ],
   "metadata": {
    "collapsed": false,
    "ExecuteTime": {
     "start_time": "2023-07-16T21:26:29.025815Z",
     "end_time": "2023-07-16T21:26:29.081700Z"
    }
   }
  }
 ],
 "metadata": {
  "kernelspec": {
   "display_name": "Python 3",
   "language": "python",
   "name": "python3"
  },
  "language_info": {
   "codemirror_mode": {
    "name": "ipython",
    "version": 2
   },
   "file_extension": ".py",
   "mimetype": "text/x-python",
   "name": "python",
   "nbconvert_exporter": "python",
   "pygments_lexer": "ipython2",
   "version": "2.7.6"
  }
 },
 "nbformat": 4,
 "nbformat_minor": 0
}
