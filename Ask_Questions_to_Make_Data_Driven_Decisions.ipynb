{
 "nbformat": 4,
 "nbformat_minor": 0,
 "metadata": {
  "colab": {
   "provenance": []
  },
  "kernelspec": {
   "name": "python3",
   "display_name": "Python 3"
  },
  "language_info": {
   "name": "python"
  }
 },
 "cells": [
  {
   "cell_type": "markdown",
   "source": [
    "Question 1: Limiting time analysis to a certain time period. What component of the SMART framework describes this action?\n",
    "\n",
    "A)Specific\n",
    "\n",
    "B) Measurable\n",
    "\n",
    "C) Action-Oriented\n",
    "\n",
    "D) Relevant\n",
    "\n",
    "E) Time-Bound"
   ],
   "metadata": {
    "id": "H8z2Yo2O_Mto"
   }
  },
  {
   "cell_type": "markdown",
   "source": [
    "E) Time-Bound"
   ],
   "metadata": {
    "collapsed": false
   }
  },
  {
   "cell_type": "markdown",
   "source": [
    "Question 2: What are the common types of problems?\n",
    "<br> (Provide the involved actions of each type)"
   ],
   "metadata": {
    "id": "9F7VX_9l_v7d"
   }
  },
  {
   "cell_type": "markdown",
   "source": [
    "1- Making Prediction\n",
    "2- Classification.\n",
    "3- Finding patterns\n",
    "4- Discovering Correlation\\connections.\n",
    "5- Anomaly Detection.\n",
    "6- Identifying Themes."
   ],
   "metadata": {
    "collapsed": false
   }
  },
  {
   "cell_type": "markdown",
   "source": [
    "Question 3: How would structure thinking help us with complex problems?"
   ],
   "metadata": {
    "id": "_mz2Qb_fAaZ-"
   }
  },
  {
   "cell_type": "markdown",
   "source": [
    "1- Structured thinking enables organizing ideas and arguments in a logical flow.\n",
    "2- Allows identifying patters and relatinships and trends within the data.\n",
    "3- Effectiveness and reinforcing focus."
   ],
   "metadata": {
    "collapsed": false
   }
  },
  {
   "cell_type": "markdown",
   "source": [
    "Question 4: what are the data analysis process steps.\n",
    "<br> (provide the involved activities of each step)"
   ],
   "metadata": {
    "id": "0x5FAW9tBUA4"
   }
  },
  {
   "cell_type": "markdown",
   "source": [
    "1- Asking: defining the problem that we are trying to solve.\n",
    "2- Prepare: collecting data and defining metrics to measures.\n",
    "3- Process: data cleaning.\n",
    "4- Analyzing the data.\n",
    "5- Sharing insights.\n",
    "6- Act."
   ],
   "metadata": {
    "collapsed": false
   }
  },
  {
   "cell_type": "markdown",
   "source": [
    "Question 5: Which of the following is an open-ended question?\n",
    "\n",
    "A) Did you enjoy the movie last night?\n",
    "\n",
    "B)What are your thoughts on the book I lent you?\n",
    "\n",
    "C) Have you visited Paris before?\n",
    "\n",
    "D) Are you attending the event on Friday?"
   ],
   "metadata": {
    "id": "UpAYgSDewc29"
   }
  },
  {
   "cell_type": "markdown",
   "source": [
    "B)"
   ],
   "metadata": {
    "collapsed": false
   }
  },
  {
   "cell_type": "markdown",
   "source": [
    "Question 6: Which of the following best describes the nature of quantitative data?\n",
    "\n",
    "A) Rich in descriptive narratives and personal opinions.\n",
    "\n",
    "B) Captures qualities, characteristics, and attributes.\n",
    "\n",
    "C) Involves numerical measurements and counts.\n",
    "\n",
    "D) Provides in-depth insights through thematic analysis."
   ],
   "metadata": {
    "id": "La6zEAWt0RkF"
   }
  },
  {
   "cell_type": "markdown",
   "source": [
    "C) Involves numerical measurements and counts."
   ],
   "metadata": {
    "collapsed": false
   }
  },
  {
   "cell_type": "markdown",
   "source": [
    "Which of the following examples would be determined using qualitative data?\n",
    "\n",
    "A) Measuring the temperature fluctuations in a chemical reaction.\n",
    "\n",
    "B) Exploring the emotional impact of a tragic event on survivors.\n",
    "\n",
    "C) Analyzing the sales trends of a retail store over the past year.\n",
    "\n",
    "D) Investigating the correlation between exercise and weight loss."
   ],
   "metadata": {
    "id": "oifNCF1F7h9c"
   }
  },
  {
   "cell_type": "markdown",
   "source": [
    "B) Exploring the emotional impact of a tragic event on survivors."
   ],
   "metadata": {
    "collapsed": false
   }
  },
  {
   "cell_type": "markdown",
   "source": [
    "Question 7: In which scenario is small data more likely to be relevant and effective?\n",
    "\n",
    "A) Analyzing global weather patterns over the past decade\n",
    "\n",
    "B) Monitoring social media trends in real-time\n",
    "\n",
    "C) Tracking the stock market fluctuations of a single company\n",
    "\n",
    "D) Examining the genomic data of multiple individuals"
   ],
   "metadata": {
    "id": "zXiWndMR8NgQ"
   }
  },
  {
   "cell_type": "markdown",
   "source": [
    "C) Tracking the stock market fluctuations of a single company"
   ],
   "metadata": {
    "collapsed": false
   }
  },
  {
   "cell_type": "markdown",
   "source": [
    "Question 8: How are dashboards different from reports?"
   ],
   "metadata": {
    "id": "kw1bCiXu_Bye"
   }
  },
  {
   "cell_type": "markdown",
   "source": [],
   "metadata": {
    "collapsed": false
   }
  },
  {
   "cell_type": "markdown",
   "source": [
    "Question 9: Describe the difference between data and matrices."
   ],
   "metadata": {
    "id": "xR0XrwqvAFok"
   }
  },
  {
   "cell_type": "markdown",
   "source": [
    "- Dashboards contain interactive visualizations: in contrast, reports are static.\n",
    "- Dashboards can provide real-time visualizations of KPIs; on the other hand, reports provide detailed information on specific topics or areas."
   ],
   "metadata": {
    "collapsed": false
   }
  },
  {
   "cell_type": "markdown",
   "source": [
    "Question 10: What does a pivot table allow you to do with your data?\n",
    "\n",
    "A) Delete rows and columns that are not relevant.\n",
    "\n",
    "B) Merge cells with similar content for clarity.\n",
    "\n",
    "C) Convert text data into numeric values.\n",
    "\n",
    "D) Reorganize and summarize data according to different criteria."
   ],
   "metadata": {
    "id": "YAoeOrakDv7S"
   }
  },
  {
   "cell_type": "markdown",
   "source": [
    "D) Reorganize and summarize data according to different criteria."
   ],
   "metadata": {
    "collapsed": false
   }
  },
  {
   "cell_type": "markdown",
   "source": [
    "Question 11:What is the primary purpose of a spreadsheet application?\n",
    "\n",
    "A) Creating visual artwork\n",
    "\n",
    "B) Writing code\n",
    "\n",
    "C) Organizing and analyzing data\n",
    "\n",
    "D) Sending emails"
   ],
   "metadata": {
    "id": "0ytbK7QRI0xa"
   }
  },
  {
   "cell_type": "markdown",
   "source": [
    "C) Organizing and analyzing data\n"
   ],
   "metadata": {
    "collapsed": false
   }
  },
  {
   "cell_type": "markdown",
   "source": [
    "Question 12: What does the term \"cell range\" refer to in a spreadsheet?\n",
    "\n",
    "A) A group of interconnected worksheets\n",
    "\n",
    "B) A region of the screen where cells are displayed\n",
    "\n",
    "C) A set of related formulas\n",
    "\n",
    "D) A selection of adjacent cells identified by their location"
   ],
   "metadata": {
    "id": "mHouvdtaMjni"
   }
  },
  {
   "cell_type": "markdown",
   "source": [
    "D) A selection of adjacent cells identified by their location"
   ],
   "metadata": {
    "collapsed": false
   }
  },
  {
   "cell_type": "markdown",
   "source": [
    "Question 13: Which symbol is used to indicate the start of a formula in a spreadsheet?\n",
    "\n",
    "A) +\n",
    "\n",
    "B) -\n",
    "\n",
    "C) =\n",
    "\n",
    "D) *"
   ],
   "metadata": {
    "id": "7pq8iK2ePHVr"
   }
  },
  {
   "cell_type": "markdown",
   "source": [
    "C) ="
   ],
   "metadata": {
    "collapsed": false
   }
  },
  {
   "cell_type": "markdown",
   "source": [
    "Question 14: what's the difference between functions and formulas?"
   ],
   "metadata": {
    "id": "6HcWM7AtQML5"
   }
  },
  {
   "cell_type": "markdown",
   "source": [
    "Formulas: mathimatical expressions that perform calculation using operators(+,-,*,/).\n",
    "Functions: perform specific operations or calculations. Functions can perform wide range of tasks, like: mathematical calculations(SUM, AVERAGE,..), time calculaitons (TODAY,...)"
   ],
   "metadata": {
    "collapsed": false
   }
  },
  {
   "cell_type": "code",
   "execution_count": null,
   "outputs": [],
   "source": [],
   "metadata": {
    "collapsed": false
   }
  }
 ]
}
